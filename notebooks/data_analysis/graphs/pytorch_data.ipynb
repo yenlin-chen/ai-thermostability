{
 "cells": [
  {
   "cell_type": "code",
   "execution_count": 4,
   "metadata": {},
   "outputs": [],
   "source": [
    "import os, sys\n",
    "import os.path as osp\n",
    "sys.path.append(osp.dirname(os.getcwd()))\n",
    "from project_directories import processed_dir\n",
    "\n",
    "import torch\n",
    "from torch_geometric.utils import to_dense_adj\n",
    "import matplotlib.pyplot as plt\n",
    "\n",
    "src_dir = osp.join(processed_dir, 'v0')"
   ]
  },
  {
   "cell_type": "code",
   "execution_count": 2,
   "metadata": {},
   "outputs": [],
   "source": [
    "for i, f in enumerate(os.listdir(src_dir)):\n",
    "    if not f.endswith('.pt'):\n",
    "        continue\n",
    "    if f.startswith('pre_'):\n",
    "        continue\n",
    "    if i % 500 != 0:\n",
    "        continue\n",
    "\n",
    "    data_path = osp.join(src_dir, f)\n",
    "\n",
    "    data = torch.load(data_path)\n",
    "    # print(data)\n",
    "    # print()\n",
    "\n",
    "    seq_len = data.num_nodes\n",
    "\n",
    "    fig, ax = plt.subplots(2, 2, sharex=True, sharey=True, layout='compressed')\n",
    "    ax = ax.flatten()\n",
    "    fig.suptitle(f'{data.accession} ({seq_len} residues)')\n",
    "\n",
    "    j = 0\n",
    "    for edge_type in data.edge_types:\n",
    "        if edge_type[1] == 'backbone':\n",
    "            continue\n",
    "\n",
    "        adj = to_dense_adj(\n",
    "            edge_index=data[edge_type].edge_index,\n",
    "            max_num_nodes=data.num_nodes\n",
    "        ).squeeze()\n",
    "\n",
    "        ax[j].matshow(adj)\n",
    "        ax[j].set_title(edge_type[1])\n",
    "\n",
    "        ax[j].set_ylabel('residue')\n",
    "        ax[j].set_ylabel('residue')\n",
    "        ax[j].set_xticks([0, seq_len//4, seq_len//2, seq_len*3//4, seq_len])\n",
    "        ax[j].set_yticks([0, seq_len//4, seq_len//2, seq_len*3//4, seq_len])\n",
    "\n",
    "        ax[j].xaxis.tick_bottom()\n",
    "        \n",
    "        j += 1\n",
    "\n",
    "    plt.savefig(f'sample{i}.png', dpi=300, bbox_inches='tight')\n",
    "                # transparent=True, )\n",
    "    plt.close()\n",
    "\n",
    "    if i == 30:\n",
    "        break"
   ]
  }
 ],
 "metadata": {
  "kernelspec": {
   "display_name": "thermo3",
   "language": "python",
   "name": "python3"
  },
  "language_info": {
   "codemirror_mode": {
    "name": "ipython",
    "version": 3
   },
   "file_extension": ".py",
   "mimetype": "text/x-python",
   "name": "python",
   "nbconvert_exporter": "python",
   "pygments_lexer": "ipython3",
   "version": "3.10.11"
  },
  "orig_nbformat": 4
 },
 "nbformat": 4,
 "nbformat_minor": 2
}
